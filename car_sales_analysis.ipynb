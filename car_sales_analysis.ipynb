{
 "cells": [
  {
   "cell_type": "code",
   "execution_count": 2,
   "id": "afbe051d-ebfd-45aa-b4e4-4bce3ac1f696",
   "metadata": {},
   "outputs": [],
   "source": [
    "import pandas as pd"
   ]
  },
  {
   "cell_type": "code",
   "execution_count": 3,
   "id": "17cfc6a7-0791-4a72-acb9-08df18b7b9d5",
   "metadata": {},
   "outputs": [],
   "source": [
    "car =pd.read_csv('car_prices.csv')"
   ]
  },
  {
   "cell_type": "code",
   "execution_count": 4,
   "id": "c02b214e-a28b-4a7e-844b-1fb36df6f609",
   "metadata": {},
   "outputs": [
    {
     "data": {
      "text/html": [
       "<div>\n",
       "<style scoped>\n",
       "    .dataframe tbody tr th:only-of-type {\n",
       "        vertical-align: middle;\n",
       "    }\n",
       "\n",
       "    .dataframe tbody tr th {\n",
       "        vertical-align: top;\n",
       "    }\n",
       "\n",
       "    .dataframe thead th {\n",
       "        text-align: right;\n",
       "    }\n",
       "</style>\n",
       "<table border=\"1\" class=\"dataframe\">\n",
       "  <thead>\n",
       "    <tr style=\"text-align: right;\">\n",
       "      <th></th>\n",
       "      <th>year</th>\n",
       "      <th>make</th>\n",
       "      <th>model</th>\n",
       "      <th>trim</th>\n",
       "      <th>body</th>\n",
       "      <th>transmission</th>\n",
       "      <th>vin</th>\n",
       "      <th>state</th>\n",
       "      <th>condition</th>\n",
       "      <th>odometer</th>\n",
       "      <th>color</th>\n",
       "      <th>interior</th>\n",
       "      <th>seller</th>\n",
       "      <th>mmr</th>\n",
       "      <th>sellingprice</th>\n",
       "      <th>saledate</th>\n",
       "    </tr>\n",
       "  </thead>\n",
       "  <tbody>\n",
       "    <tr>\n",
       "      <th>0</th>\n",
       "      <td>2015</td>\n",
       "      <td>Kia</td>\n",
       "      <td>Sorento</td>\n",
       "      <td>LX</td>\n",
       "      <td>SUV</td>\n",
       "      <td>automatic</td>\n",
       "      <td>5xyktca69fg566472</td>\n",
       "      <td>ca</td>\n",
       "      <td>5.0</td>\n",
       "      <td>16639.0</td>\n",
       "      <td>white</td>\n",
       "      <td>black</td>\n",
       "      <td>kia motors america  inc</td>\n",
       "      <td>20500.0</td>\n",
       "      <td>21500.0</td>\n",
       "      <td>Tue Dec 16 2014 12:30:00 GMT-0800 (PST)</td>\n",
       "    </tr>\n",
       "    <tr>\n",
       "      <th>1</th>\n",
       "      <td>2015</td>\n",
       "      <td>Kia</td>\n",
       "      <td>Sorento</td>\n",
       "      <td>LX</td>\n",
       "      <td>SUV</td>\n",
       "      <td>automatic</td>\n",
       "      <td>5xyktca69fg561319</td>\n",
       "      <td>ca</td>\n",
       "      <td>5.0</td>\n",
       "      <td>9393.0</td>\n",
       "      <td>white</td>\n",
       "      <td>beige</td>\n",
       "      <td>kia motors america  inc</td>\n",
       "      <td>20800.0</td>\n",
       "      <td>21500.0</td>\n",
       "      <td>Tue Dec 16 2014 12:30:00 GMT-0800 (PST)</td>\n",
       "    </tr>\n",
       "    <tr>\n",
       "      <th>2</th>\n",
       "      <td>2014</td>\n",
       "      <td>BMW</td>\n",
       "      <td>3 Series</td>\n",
       "      <td>328i SULEV</td>\n",
       "      <td>Sedan</td>\n",
       "      <td>automatic</td>\n",
       "      <td>wba3c1c51ek116351</td>\n",
       "      <td>ca</td>\n",
       "      <td>45.0</td>\n",
       "      <td>1331.0</td>\n",
       "      <td>gray</td>\n",
       "      <td>black</td>\n",
       "      <td>financial services remarketing (lease)</td>\n",
       "      <td>31900.0</td>\n",
       "      <td>30000.0</td>\n",
       "      <td>Thu Jan 15 2015 04:30:00 GMT-0800 (PST)</td>\n",
       "    </tr>\n",
       "    <tr>\n",
       "      <th>3</th>\n",
       "      <td>2015</td>\n",
       "      <td>Volvo</td>\n",
       "      <td>S60</td>\n",
       "      <td>T5</td>\n",
       "      <td>Sedan</td>\n",
       "      <td>automatic</td>\n",
       "      <td>yv1612tb4f1310987</td>\n",
       "      <td>ca</td>\n",
       "      <td>41.0</td>\n",
       "      <td>14282.0</td>\n",
       "      <td>white</td>\n",
       "      <td>black</td>\n",
       "      <td>volvo na rep/world omni</td>\n",
       "      <td>27500.0</td>\n",
       "      <td>27750.0</td>\n",
       "      <td>Thu Jan 29 2015 04:30:00 GMT-0800 (PST)</td>\n",
       "    </tr>\n",
       "    <tr>\n",
       "      <th>4</th>\n",
       "      <td>2014</td>\n",
       "      <td>BMW</td>\n",
       "      <td>6 Series Gran Coupe</td>\n",
       "      <td>650i</td>\n",
       "      <td>Sedan</td>\n",
       "      <td>automatic</td>\n",
       "      <td>wba6b2c57ed129731</td>\n",
       "      <td>ca</td>\n",
       "      <td>43.0</td>\n",
       "      <td>2641.0</td>\n",
       "      <td>gray</td>\n",
       "      <td>black</td>\n",
       "      <td>financial services remarketing (lease)</td>\n",
       "      <td>66000.0</td>\n",
       "      <td>67000.0</td>\n",
       "      <td>Thu Dec 18 2014 12:30:00 GMT-0800 (PST)</td>\n",
       "    </tr>\n",
       "    <tr>\n",
       "      <th>...</th>\n",
       "      <td>...</td>\n",
       "      <td>...</td>\n",
       "      <td>...</td>\n",
       "      <td>...</td>\n",
       "      <td>...</td>\n",
       "      <td>...</td>\n",
       "      <td>...</td>\n",
       "      <td>...</td>\n",
       "      <td>...</td>\n",
       "      <td>...</td>\n",
       "      <td>...</td>\n",
       "      <td>...</td>\n",
       "      <td>...</td>\n",
       "      <td>...</td>\n",
       "      <td>...</td>\n",
       "      <td>...</td>\n",
       "    </tr>\n",
       "    <tr>\n",
       "      <th>558832</th>\n",
       "      <td>2015</td>\n",
       "      <td>Kia</td>\n",
       "      <td>K900</td>\n",
       "      <td>Luxury</td>\n",
       "      <td>Sedan</td>\n",
       "      <td>NaN</td>\n",
       "      <td>knalw4d4xf6019304</td>\n",
       "      <td>in</td>\n",
       "      <td>45.0</td>\n",
       "      <td>18255.0</td>\n",
       "      <td>silver</td>\n",
       "      <td>black</td>\n",
       "      <td>avis corporation</td>\n",
       "      <td>35300.0</td>\n",
       "      <td>33000.0</td>\n",
       "      <td>Thu Jul 09 2015 07:00:00 GMT-0700 (PDT)</td>\n",
       "    </tr>\n",
       "    <tr>\n",
       "      <th>558833</th>\n",
       "      <td>2012</td>\n",
       "      <td>Ram</td>\n",
       "      <td>2500</td>\n",
       "      <td>Power Wagon</td>\n",
       "      <td>Crew Cab</td>\n",
       "      <td>automatic</td>\n",
       "      <td>3c6td5et6cg112407</td>\n",
       "      <td>wa</td>\n",
       "      <td>5.0</td>\n",
       "      <td>54393.0</td>\n",
       "      <td>white</td>\n",
       "      <td>black</td>\n",
       "      <td>i -5 uhlmann rv</td>\n",
       "      <td>30200.0</td>\n",
       "      <td>30800.0</td>\n",
       "      <td>Wed Jul 08 2015 09:30:00 GMT-0700 (PDT)</td>\n",
       "    </tr>\n",
       "    <tr>\n",
       "      <th>558834</th>\n",
       "      <td>2012</td>\n",
       "      <td>BMW</td>\n",
       "      <td>X5</td>\n",
       "      <td>xDrive35d</td>\n",
       "      <td>SUV</td>\n",
       "      <td>automatic</td>\n",
       "      <td>5uxzw0c58cl668465</td>\n",
       "      <td>ca</td>\n",
       "      <td>48.0</td>\n",
       "      <td>50561.0</td>\n",
       "      <td>black</td>\n",
       "      <td>black</td>\n",
       "      <td>financial services remarketing (lease)</td>\n",
       "      <td>29800.0</td>\n",
       "      <td>34000.0</td>\n",
       "      <td>Wed Jul 08 2015 09:30:00 GMT-0700 (PDT)</td>\n",
       "    </tr>\n",
       "    <tr>\n",
       "      <th>558835</th>\n",
       "      <td>2015</td>\n",
       "      <td>Nissan</td>\n",
       "      <td>Altima</td>\n",
       "      <td>2.5 S</td>\n",
       "      <td>sedan</td>\n",
       "      <td>automatic</td>\n",
       "      <td>1n4al3ap0fc216050</td>\n",
       "      <td>ga</td>\n",
       "      <td>38.0</td>\n",
       "      <td>16658.0</td>\n",
       "      <td>white</td>\n",
       "      <td>black</td>\n",
       "      <td>enterprise vehicle exchange / tra / rental / t...</td>\n",
       "      <td>15100.0</td>\n",
       "      <td>11100.0</td>\n",
       "      <td>Thu Jul 09 2015 06:45:00 GMT-0700 (PDT)</td>\n",
       "    </tr>\n",
       "    <tr>\n",
       "      <th>558836</th>\n",
       "      <td>2014</td>\n",
       "      <td>Ford</td>\n",
       "      <td>F-150</td>\n",
       "      <td>XLT</td>\n",
       "      <td>SuperCrew</td>\n",
       "      <td>automatic</td>\n",
       "      <td>1ftfw1et2eke87277</td>\n",
       "      <td>ca</td>\n",
       "      <td>34.0</td>\n",
       "      <td>15008.0</td>\n",
       "      <td>gray</td>\n",
       "      <td>gray</td>\n",
       "      <td>ford motor credit company llc pd</td>\n",
       "      <td>29600.0</td>\n",
       "      <td>26700.0</td>\n",
       "      <td>Thu May 28 2015 05:30:00 GMT-0700 (PDT)</td>\n",
       "    </tr>\n",
       "  </tbody>\n",
       "</table>\n",
       "<p>558837 rows × 16 columns</p>\n",
       "</div>"
      ],
      "text/plain": [
       "        year    make                model         trim       body  \\\n",
       "0       2015     Kia              Sorento           LX        SUV   \n",
       "1       2015     Kia              Sorento           LX        SUV   \n",
       "2       2014     BMW             3 Series   328i SULEV      Sedan   \n",
       "3       2015   Volvo                  S60           T5      Sedan   \n",
       "4       2014     BMW  6 Series Gran Coupe         650i      Sedan   \n",
       "...      ...     ...                  ...          ...        ...   \n",
       "558832  2015     Kia                 K900       Luxury      Sedan   \n",
       "558833  2012     Ram                 2500  Power Wagon   Crew Cab   \n",
       "558834  2012     BMW                   X5    xDrive35d        SUV   \n",
       "558835  2015  Nissan               Altima        2.5 S      sedan   \n",
       "558836  2014    Ford                F-150          XLT  SuperCrew   \n",
       "\n",
       "       transmission                vin state  condition  odometer   color  \\\n",
       "0         automatic  5xyktca69fg566472    ca        5.0   16639.0   white   \n",
       "1         automatic  5xyktca69fg561319    ca        5.0    9393.0   white   \n",
       "2         automatic  wba3c1c51ek116351    ca       45.0    1331.0    gray   \n",
       "3         automatic  yv1612tb4f1310987    ca       41.0   14282.0   white   \n",
       "4         automatic  wba6b2c57ed129731    ca       43.0    2641.0    gray   \n",
       "...             ...                ...   ...        ...       ...     ...   \n",
       "558832          NaN  knalw4d4xf6019304    in       45.0   18255.0  silver   \n",
       "558833    automatic  3c6td5et6cg112407    wa        5.0   54393.0   white   \n",
       "558834    automatic  5uxzw0c58cl668465    ca       48.0   50561.0   black   \n",
       "558835    automatic  1n4al3ap0fc216050    ga       38.0   16658.0   white   \n",
       "558836    automatic  1ftfw1et2eke87277    ca       34.0   15008.0    gray   \n",
       "\n",
       "       interior                                             seller      mmr  \\\n",
       "0         black                            kia motors america  inc  20500.0   \n",
       "1         beige                            kia motors america  inc  20800.0   \n",
       "2         black             financial services remarketing (lease)  31900.0   \n",
       "3         black                            volvo na rep/world omni  27500.0   \n",
       "4         black             financial services remarketing (lease)  66000.0   \n",
       "...         ...                                                ...      ...   \n",
       "558832    black                                   avis corporation  35300.0   \n",
       "558833    black                                    i -5 uhlmann rv  30200.0   \n",
       "558834    black             financial services remarketing (lease)  29800.0   \n",
       "558835    black  enterprise vehicle exchange / tra / rental / t...  15100.0   \n",
       "558836     gray                   ford motor credit company llc pd  29600.0   \n",
       "\n",
       "        sellingprice                                 saledate  \n",
       "0            21500.0  Tue Dec 16 2014 12:30:00 GMT-0800 (PST)  \n",
       "1            21500.0  Tue Dec 16 2014 12:30:00 GMT-0800 (PST)  \n",
       "2            30000.0  Thu Jan 15 2015 04:30:00 GMT-0800 (PST)  \n",
       "3            27750.0  Thu Jan 29 2015 04:30:00 GMT-0800 (PST)  \n",
       "4            67000.0  Thu Dec 18 2014 12:30:00 GMT-0800 (PST)  \n",
       "...              ...                                      ...  \n",
       "558832       33000.0  Thu Jul 09 2015 07:00:00 GMT-0700 (PDT)  \n",
       "558833       30800.0  Wed Jul 08 2015 09:30:00 GMT-0700 (PDT)  \n",
       "558834       34000.0  Wed Jul 08 2015 09:30:00 GMT-0700 (PDT)  \n",
       "558835       11100.0  Thu Jul 09 2015 06:45:00 GMT-0700 (PDT)  \n",
       "558836       26700.0  Thu May 28 2015 05:30:00 GMT-0700 (PDT)  \n",
       "\n",
       "[558837 rows x 16 columns]"
      ]
     },
     "execution_count": 4,
     "metadata": {},
     "output_type": "execute_result"
    }
   ],
   "source": [
    "car"
   ]
  },
  {
   "cell_type": "code",
   "execution_count": 5,
   "id": "59069062-6517-40db-8c67-cd57d4cf015c",
   "metadata": {},
   "outputs": [],
   "source": [
    "# data cleaning"
   ]
  },
  {
   "cell_type": "code",
   "execution_count": 6,
   "id": "abb87fce-a6fb-47ed-aad3-1afb2c0e4c24",
   "metadata": {},
   "outputs": [
    {
     "name": "stdout",
     "output_type": "stream",
     "text": [
      "<class 'pandas.core.frame.DataFrame'>\n",
      "RangeIndex: 558837 entries, 0 to 558836\n",
      "Data columns (total 16 columns):\n",
      " #   Column        Non-Null Count   Dtype  \n",
      "---  ------        --------------   -----  \n",
      " 0   year          558837 non-null  int64  \n",
      " 1   make          548536 non-null  object \n",
      " 2   model         548438 non-null  object \n",
      " 3   trim          548186 non-null  object \n",
      " 4   body          545642 non-null  object \n",
      " 5   transmission  493485 non-null  object \n",
      " 6   vin           558833 non-null  object \n",
      " 7   state         558837 non-null  object \n",
      " 8   condition     547017 non-null  float64\n",
      " 9   odometer      558743 non-null  float64\n",
      " 10  color         558088 non-null  object \n",
      " 11  interior      558088 non-null  object \n",
      " 12  seller        558837 non-null  object \n",
      " 13  mmr           558799 non-null  float64\n",
      " 14  sellingprice  558825 non-null  float64\n",
      " 15  saledate      558825 non-null  object \n",
      "dtypes: float64(4), int64(1), object(11)\n",
      "memory usage: 68.2+ MB\n"
     ]
    }
   ],
   "source": [
    "car.info()"
   ]
  },
  {
   "cell_type": "code",
   "execution_count": 7,
   "id": "83721a27-e06b-44c6-a6a3-eac00259adab",
   "metadata": {},
   "outputs": [
    {
     "data": {
      "text/plain": [
       "year                0\n",
       "make            10301\n",
       "model           10399\n",
       "trim            10651\n",
       "body            13195\n",
       "transmission    65352\n",
       "vin                 4\n",
       "state               0\n",
       "condition       11820\n",
       "odometer           94\n",
       "color             749\n",
       "interior          749\n",
       "seller              0\n",
       "mmr                38\n",
       "sellingprice       12\n",
       "saledate           12\n",
       "dtype: int64"
      ]
     },
     "execution_count": 7,
     "metadata": {},
     "output_type": "execute_result"
    }
   ],
   "source": [
    "car.isnull().sum()"
   ]
  },
  {
   "cell_type": "code",
   "execution_count": 8,
   "id": "ac89019d-3ace-494b-bbe3-b8f5a00e95ba",
   "metadata": {},
   "outputs": [],
   "source": [
    "car.dropna(inplace=True)"
   ]
  },
  {
   "cell_type": "code",
   "execution_count": 9,
   "id": "dab064d9-659c-40ca-abbf-ea4412f4da59",
   "metadata": {},
   "outputs": [
    {
     "data": {
      "text/plain": [
       "year            0\n",
       "make            0\n",
       "model           0\n",
       "trim            0\n",
       "body            0\n",
       "transmission    0\n",
       "vin             0\n",
       "state           0\n",
       "condition       0\n",
       "odometer        0\n",
       "color           0\n",
       "interior        0\n",
       "seller          0\n",
       "mmr             0\n",
       "sellingprice    0\n",
       "saledate        0\n",
       "dtype: int64"
      ]
     },
     "execution_count": 9,
     "metadata": {},
     "output_type": "execute_result"
    }
   ],
   "source": [
    "car.isnull().sum()"
   ]
  },
  {
   "cell_type": "code",
   "execution_count": 10,
   "id": "e5e9d303-0fe0-47df-ad22-bd9485533143",
   "metadata": {},
   "outputs": [
    {
     "data": {
      "text/html": [
       "<div>\n",
       "<style scoped>\n",
       "    .dataframe tbody tr th:only-of-type {\n",
       "        vertical-align: middle;\n",
       "    }\n",
       "\n",
       "    .dataframe tbody tr th {\n",
       "        vertical-align: top;\n",
       "    }\n",
       "\n",
       "    .dataframe thead th {\n",
       "        text-align: right;\n",
       "    }\n",
       "</style>\n",
       "<table border=\"1\" class=\"dataframe\">\n",
       "  <thead>\n",
       "    <tr style=\"text-align: right;\">\n",
       "      <th></th>\n",
       "      <th>year</th>\n",
       "      <th>make</th>\n",
       "      <th>model</th>\n",
       "      <th>trim</th>\n",
       "      <th>body</th>\n",
       "      <th>transmission</th>\n",
       "      <th>vin</th>\n",
       "      <th>state</th>\n",
       "      <th>condition</th>\n",
       "      <th>odometer</th>\n",
       "      <th>color</th>\n",
       "      <th>interior</th>\n",
       "      <th>seller</th>\n",
       "      <th>mmr</th>\n",
       "      <th>sellingprice</th>\n",
       "      <th>saledate</th>\n",
       "    </tr>\n",
       "  </thead>\n",
       "  <tbody>\n",
       "    <tr>\n",
       "      <th>0</th>\n",
       "      <td>2015</td>\n",
       "      <td>Kia</td>\n",
       "      <td>Sorento</td>\n",
       "      <td>LX</td>\n",
       "      <td>SUV</td>\n",
       "      <td>automatic</td>\n",
       "      <td>5xyktca69fg566472</td>\n",
       "      <td>ca</td>\n",
       "      <td>5.0</td>\n",
       "      <td>16639.0</td>\n",
       "      <td>white</td>\n",
       "      <td>black</td>\n",
       "      <td>kia motors america  inc</td>\n",
       "      <td>20500.0</td>\n",
       "      <td>21500.0</td>\n",
       "      <td>Tue Dec 16 2014 12:30:00 GMT-0800 (PST)</td>\n",
       "    </tr>\n",
       "    <tr>\n",
       "      <th>1</th>\n",
       "      <td>2015</td>\n",
       "      <td>Kia</td>\n",
       "      <td>Sorento</td>\n",
       "      <td>LX</td>\n",
       "      <td>SUV</td>\n",
       "      <td>automatic</td>\n",
       "      <td>5xyktca69fg561319</td>\n",
       "      <td>ca</td>\n",
       "      <td>5.0</td>\n",
       "      <td>9393.0</td>\n",
       "      <td>white</td>\n",
       "      <td>beige</td>\n",
       "      <td>kia motors america  inc</td>\n",
       "      <td>20800.0</td>\n",
       "      <td>21500.0</td>\n",
       "      <td>Tue Dec 16 2014 12:30:00 GMT-0800 (PST)</td>\n",
       "    </tr>\n",
       "    <tr>\n",
       "      <th>2</th>\n",
       "      <td>2014</td>\n",
       "      <td>BMW</td>\n",
       "      <td>3 Series</td>\n",
       "      <td>328i SULEV</td>\n",
       "      <td>Sedan</td>\n",
       "      <td>automatic</td>\n",
       "      <td>wba3c1c51ek116351</td>\n",
       "      <td>ca</td>\n",
       "      <td>45.0</td>\n",
       "      <td>1331.0</td>\n",
       "      <td>gray</td>\n",
       "      <td>black</td>\n",
       "      <td>financial services remarketing (lease)</td>\n",
       "      <td>31900.0</td>\n",
       "      <td>30000.0</td>\n",
       "      <td>Thu Jan 15 2015 04:30:00 GMT-0800 (PST)</td>\n",
       "    </tr>\n",
       "    <tr>\n",
       "      <th>3</th>\n",
       "      <td>2015</td>\n",
       "      <td>Volvo</td>\n",
       "      <td>S60</td>\n",
       "      <td>T5</td>\n",
       "      <td>Sedan</td>\n",
       "      <td>automatic</td>\n",
       "      <td>yv1612tb4f1310987</td>\n",
       "      <td>ca</td>\n",
       "      <td>41.0</td>\n",
       "      <td>14282.0</td>\n",
       "      <td>white</td>\n",
       "      <td>black</td>\n",
       "      <td>volvo na rep/world omni</td>\n",
       "      <td>27500.0</td>\n",
       "      <td>27750.0</td>\n",
       "      <td>Thu Jan 29 2015 04:30:00 GMT-0800 (PST)</td>\n",
       "    </tr>\n",
       "    <tr>\n",
       "      <th>4</th>\n",
       "      <td>2014</td>\n",
       "      <td>BMW</td>\n",
       "      <td>6 Series Gran Coupe</td>\n",
       "      <td>650i</td>\n",
       "      <td>Sedan</td>\n",
       "      <td>automatic</td>\n",
       "      <td>wba6b2c57ed129731</td>\n",
       "      <td>ca</td>\n",
       "      <td>43.0</td>\n",
       "      <td>2641.0</td>\n",
       "      <td>gray</td>\n",
       "      <td>black</td>\n",
       "      <td>financial services remarketing (lease)</td>\n",
       "      <td>66000.0</td>\n",
       "      <td>67000.0</td>\n",
       "      <td>Thu Dec 18 2014 12:30:00 GMT-0800 (PST)</td>\n",
       "    </tr>\n",
       "    <tr>\n",
       "      <th>...</th>\n",
       "      <td>...</td>\n",
       "      <td>...</td>\n",
       "      <td>...</td>\n",
       "      <td>...</td>\n",
       "      <td>...</td>\n",
       "      <td>...</td>\n",
       "      <td>...</td>\n",
       "      <td>...</td>\n",
       "      <td>...</td>\n",
       "      <td>...</td>\n",
       "      <td>...</td>\n",
       "      <td>...</td>\n",
       "      <td>...</td>\n",
       "      <td>...</td>\n",
       "      <td>...</td>\n",
       "      <td>...</td>\n",
       "    </tr>\n",
       "    <tr>\n",
       "      <th>558831</th>\n",
       "      <td>2011</td>\n",
       "      <td>BMW</td>\n",
       "      <td>5 Series</td>\n",
       "      <td>528i</td>\n",
       "      <td>Sedan</td>\n",
       "      <td>automatic</td>\n",
       "      <td>wbafr1c53bc744672</td>\n",
       "      <td>fl</td>\n",
       "      <td>39.0</td>\n",
       "      <td>66403.0</td>\n",
       "      <td>white</td>\n",
       "      <td>brown</td>\n",
       "      <td>lauderdale imports ltd bmw pembrok pines</td>\n",
       "      <td>20300.0</td>\n",
       "      <td>22800.0</td>\n",
       "      <td>Tue Jul 07 2015 06:15:00 GMT-0700 (PDT)</td>\n",
       "    </tr>\n",
       "    <tr>\n",
       "      <th>558833</th>\n",
       "      <td>2012</td>\n",
       "      <td>Ram</td>\n",
       "      <td>2500</td>\n",
       "      <td>Power Wagon</td>\n",
       "      <td>Crew Cab</td>\n",
       "      <td>automatic</td>\n",
       "      <td>3c6td5et6cg112407</td>\n",
       "      <td>wa</td>\n",
       "      <td>5.0</td>\n",
       "      <td>54393.0</td>\n",
       "      <td>white</td>\n",
       "      <td>black</td>\n",
       "      <td>i -5 uhlmann rv</td>\n",
       "      <td>30200.0</td>\n",
       "      <td>30800.0</td>\n",
       "      <td>Wed Jul 08 2015 09:30:00 GMT-0700 (PDT)</td>\n",
       "    </tr>\n",
       "    <tr>\n",
       "      <th>558834</th>\n",
       "      <td>2012</td>\n",
       "      <td>BMW</td>\n",
       "      <td>X5</td>\n",
       "      <td>xDrive35d</td>\n",
       "      <td>SUV</td>\n",
       "      <td>automatic</td>\n",
       "      <td>5uxzw0c58cl668465</td>\n",
       "      <td>ca</td>\n",
       "      <td>48.0</td>\n",
       "      <td>50561.0</td>\n",
       "      <td>black</td>\n",
       "      <td>black</td>\n",
       "      <td>financial services remarketing (lease)</td>\n",
       "      <td>29800.0</td>\n",
       "      <td>34000.0</td>\n",
       "      <td>Wed Jul 08 2015 09:30:00 GMT-0700 (PDT)</td>\n",
       "    </tr>\n",
       "    <tr>\n",
       "      <th>558835</th>\n",
       "      <td>2015</td>\n",
       "      <td>Nissan</td>\n",
       "      <td>Altima</td>\n",
       "      <td>2.5 S</td>\n",
       "      <td>sedan</td>\n",
       "      <td>automatic</td>\n",
       "      <td>1n4al3ap0fc216050</td>\n",
       "      <td>ga</td>\n",
       "      <td>38.0</td>\n",
       "      <td>16658.0</td>\n",
       "      <td>white</td>\n",
       "      <td>black</td>\n",
       "      <td>enterprise vehicle exchange / tra / rental / t...</td>\n",
       "      <td>15100.0</td>\n",
       "      <td>11100.0</td>\n",
       "      <td>Thu Jul 09 2015 06:45:00 GMT-0700 (PDT)</td>\n",
       "    </tr>\n",
       "    <tr>\n",
       "      <th>558836</th>\n",
       "      <td>2014</td>\n",
       "      <td>Ford</td>\n",
       "      <td>F-150</td>\n",
       "      <td>XLT</td>\n",
       "      <td>SuperCrew</td>\n",
       "      <td>automatic</td>\n",
       "      <td>1ftfw1et2eke87277</td>\n",
       "      <td>ca</td>\n",
       "      <td>34.0</td>\n",
       "      <td>15008.0</td>\n",
       "      <td>gray</td>\n",
       "      <td>gray</td>\n",
       "      <td>ford motor credit company llc pd</td>\n",
       "      <td>29600.0</td>\n",
       "      <td>26700.0</td>\n",
       "      <td>Thu May 28 2015 05:30:00 GMT-0700 (PDT)</td>\n",
       "    </tr>\n",
       "  </tbody>\n",
       "</table>\n",
       "<p>472325 rows × 16 columns</p>\n",
       "</div>"
      ],
      "text/plain": [
       "        year    make                model         trim       body  \\\n",
       "0       2015     Kia              Sorento           LX        SUV   \n",
       "1       2015     Kia              Sorento           LX        SUV   \n",
       "2       2014     BMW             3 Series   328i SULEV      Sedan   \n",
       "3       2015   Volvo                  S60           T5      Sedan   \n",
       "4       2014     BMW  6 Series Gran Coupe         650i      Sedan   \n",
       "...      ...     ...                  ...          ...        ...   \n",
       "558831  2011     BMW             5 Series         528i      Sedan   \n",
       "558833  2012     Ram                 2500  Power Wagon   Crew Cab   \n",
       "558834  2012     BMW                   X5    xDrive35d        SUV   \n",
       "558835  2015  Nissan               Altima        2.5 S      sedan   \n",
       "558836  2014    Ford                F-150          XLT  SuperCrew   \n",
       "\n",
       "       transmission                vin state  condition  odometer  color  \\\n",
       "0         automatic  5xyktca69fg566472    ca        5.0   16639.0  white   \n",
       "1         automatic  5xyktca69fg561319    ca        5.0    9393.0  white   \n",
       "2         automatic  wba3c1c51ek116351    ca       45.0    1331.0   gray   \n",
       "3         automatic  yv1612tb4f1310987    ca       41.0   14282.0  white   \n",
       "4         automatic  wba6b2c57ed129731    ca       43.0    2641.0   gray   \n",
       "...             ...                ...   ...        ...       ...    ...   \n",
       "558831    automatic  wbafr1c53bc744672    fl       39.0   66403.0  white   \n",
       "558833    automatic  3c6td5et6cg112407    wa        5.0   54393.0  white   \n",
       "558834    automatic  5uxzw0c58cl668465    ca       48.0   50561.0  black   \n",
       "558835    automatic  1n4al3ap0fc216050    ga       38.0   16658.0  white   \n",
       "558836    automatic  1ftfw1et2eke87277    ca       34.0   15008.0   gray   \n",
       "\n",
       "       interior                                             seller      mmr  \\\n",
       "0         black                            kia motors america  inc  20500.0   \n",
       "1         beige                            kia motors america  inc  20800.0   \n",
       "2         black             financial services remarketing (lease)  31900.0   \n",
       "3         black                            volvo na rep/world omni  27500.0   \n",
       "4         black             financial services remarketing (lease)  66000.0   \n",
       "...         ...                                                ...      ...   \n",
       "558831    brown           lauderdale imports ltd bmw pembrok pines  20300.0   \n",
       "558833    black                                    i -5 uhlmann rv  30200.0   \n",
       "558834    black             financial services remarketing (lease)  29800.0   \n",
       "558835    black  enterprise vehicle exchange / tra / rental / t...  15100.0   \n",
       "558836     gray                   ford motor credit company llc pd  29600.0   \n",
       "\n",
       "        sellingprice                                 saledate  \n",
       "0            21500.0  Tue Dec 16 2014 12:30:00 GMT-0800 (PST)  \n",
       "1            21500.0  Tue Dec 16 2014 12:30:00 GMT-0800 (PST)  \n",
       "2            30000.0  Thu Jan 15 2015 04:30:00 GMT-0800 (PST)  \n",
       "3            27750.0  Thu Jan 29 2015 04:30:00 GMT-0800 (PST)  \n",
       "4            67000.0  Thu Dec 18 2014 12:30:00 GMT-0800 (PST)  \n",
       "...              ...                                      ...  \n",
       "558831       22800.0  Tue Jul 07 2015 06:15:00 GMT-0700 (PDT)  \n",
       "558833       30800.0  Wed Jul 08 2015 09:30:00 GMT-0700 (PDT)  \n",
       "558834       34000.0  Wed Jul 08 2015 09:30:00 GMT-0700 (PDT)  \n",
       "558835       11100.0  Thu Jul 09 2015 06:45:00 GMT-0700 (PDT)  \n",
       "558836       26700.0  Thu May 28 2015 05:30:00 GMT-0700 (PDT)  \n",
       "\n",
       "[472325 rows x 16 columns]"
      ]
     },
     "execution_count": 10,
     "metadata": {},
     "output_type": "execute_result"
    }
   ],
   "source": [
    "car"
   ]
  },
  {
   "cell_type": "code",
   "execution_count": 11,
   "id": "a845fe71-6f8a-4b78-b4ce-e229eb5630d7",
   "metadata": {},
   "outputs": [
    {
     "data": {
      "text/plain": [
       "np.int64(0)"
      ]
     },
     "execution_count": 11,
     "metadata": {},
     "output_type": "execute_result"
    }
   ],
   "source": [
    "car.duplicated().sum()"
   ]
  },
  {
   "cell_type": "code",
   "execution_count": 12,
   "id": "83ad5de2-7f60-4c67-9ea4-24056efe5a87",
   "metadata": {},
   "outputs": [],
   "source": [
    "car.drop_duplicates(inplace=True)"
   ]
  },
  {
   "cell_type": "code",
   "execution_count": 13,
   "id": "86398433-7a23-444b-b2ee-4ea82a8046e9",
   "metadata": {
    "scrolled": true
   },
   "outputs": [
    {
     "data": {
      "text/html": [
       "<div>\n",
       "<style scoped>\n",
       "    .dataframe tbody tr th:only-of-type {\n",
       "        vertical-align: middle;\n",
       "    }\n",
       "\n",
       "    .dataframe tbody tr th {\n",
       "        vertical-align: top;\n",
       "    }\n",
       "\n",
       "    .dataframe thead th {\n",
       "        text-align: right;\n",
       "    }\n",
       "</style>\n",
       "<table border=\"1\" class=\"dataframe\">\n",
       "  <thead>\n",
       "    <tr style=\"text-align: right;\">\n",
       "      <th></th>\n",
       "      <th>year</th>\n",
       "      <th>make</th>\n",
       "      <th>model</th>\n",
       "      <th>trim</th>\n",
       "      <th>body</th>\n",
       "      <th>transmission</th>\n",
       "      <th>vin</th>\n",
       "      <th>state</th>\n",
       "      <th>condition</th>\n",
       "      <th>odometer</th>\n",
       "      <th>color</th>\n",
       "      <th>interior</th>\n",
       "      <th>seller</th>\n",
       "      <th>mmr</th>\n",
       "      <th>sellingprice</th>\n",
       "      <th>saledate</th>\n",
       "    </tr>\n",
       "  </thead>\n",
       "  <tbody>\n",
       "    <tr>\n",
       "      <th>0</th>\n",
       "      <td>2015</td>\n",
       "      <td>Kia</td>\n",
       "      <td>Sorento</td>\n",
       "      <td>LX</td>\n",
       "      <td>SUV</td>\n",
       "      <td>automatic</td>\n",
       "      <td>5xyktca69fg566472</td>\n",
       "      <td>ca</td>\n",
       "      <td>5.0</td>\n",
       "      <td>16639.0</td>\n",
       "      <td>white</td>\n",
       "      <td>black</td>\n",
       "      <td>kia motors america  inc</td>\n",
       "      <td>20500.0</td>\n",
       "      <td>21500.0</td>\n",
       "      <td>Tue Dec 16 2014 12:30:00 GMT-0800 (PST)</td>\n",
       "    </tr>\n",
       "    <tr>\n",
       "      <th>1</th>\n",
       "      <td>2015</td>\n",
       "      <td>Kia</td>\n",
       "      <td>Sorento</td>\n",
       "      <td>LX</td>\n",
       "      <td>SUV</td>\n",
       "      <td>automatic</td>\n",
       "      <td>5xyktca69fg561319</td>\n",
       "      <td>ca</td>\n",
       "      <td>5.0</td>\n",
       "      <td>9393.0</td>\n",
       "      <td>white</td>\n",
       "      <td>beige</td>\n",
       "      <td>kia motors america  inc</td>\n",
       "      <td>20800.0</td>\n",
       "      <td>21500.0</td>\n",
       "      <td>Tue Dec 16 2014 12:30:00 GMT-0800 (PST)</td>\n",
       "    </tr>\n",
       "    <tr>\n",
       "      <th>2</th>\n",
       "      <td>2014</td>\n",
       "      <td>BMW</td>\n",
       "      <td>3 Series</td>\n",
       "      <td>328i SULEV</td>\n",
       "      <td>Sedan</td>\n",
       "      <td>automatic</td>\n",
       "      <td>wba3c1c51ek116351</td>\n",
       "      <td>ca</td>\n",
       "      <td>45.0</td>\n",
       "      <td>1331.0</td>\n",
       "      <td>gray</td>\n",
       "      <td>black</td>\n",
       "      <td>financial services remarketing (lease)</td>\n",
       "      <td>31900.0</td>\n",
       "      <td>30000.0</td>\n",
       "      <td>Thu Jan 15 2015 04:30:00 GMT-0800 (PST)</td>\n",
       "    </tr>\n",
       "    <tr>\n",
       "      <th>3</th>\n",
       "      <td>2015</td>\n",
       "      <td>Volvo</td>\n",
       "      <td>S60</td>\n",
       "      <td>T5</td>\n",
       "      <td>Sedan</td>\n",
       "      <td>automatic</td>\n",
       "      <td>yv1612tb4f1310987</td>\n",
       "      <td>ca</td>\n",
       "      <td>41.0</td>\n",
       "      <td>14282.0</td>\n",
       "      <td>white</td>\n",
       "      <td>black</td>\n",
       "      <td>volvo na rep/world omni</td>\n",
       "      <td>27500.0</td>\n",
       "      <td>27750.0</td>\n",
       "      <td>Thu Jan 29 2015 04:30:00 GMT-0800 (PST)</td>\n",
       "    </tr>\n",
       "    <tr>\n",
       "      <th>4</th>\n",
       "      <td>2014</td>\n",
       "      <td>BMW</td>\n",
       "      <td>6 Series Gran Coupe</td>\n",
       "      <td>650i</td>\n",
       "      <td>Sedan</td>\n",
       "      <td>automatic</td>\n",
       "      <td>wba6b2c57ed129731</td>\n",
       "      <td>ca</td>\n",
       "      <td>43.0</td>\n",
       "      <td>2641.0</td>\n",
       "      <td>gray</td>\n",
       "      <td>black</td>\n",
       "      <td>financial services remarketing (lease)</td>\n",
       "      <td>66000.0</td>\n",
       "      <td>67000.0</td>\n",
       "      <td>Thu Dec 18 2014 12:30:00 GMT-0800 (PST)</td>\n",
       "    </tr>\n",
       "    <tr>\n",
       "      <th>...</th>\n",
       "      <td>...</td>\n",
       "      <td>...</td>\n",
       "      <td>...</td>\n",
       "      <td>...</td>\n",
       "      <td>...</td>\n",
       "      <td>...</td>\n",
       "      <td>...</td>\n",
       "      <td>...</td>\n",
       "      <td>...</td>\n",
       "      <td>...</td>\n",
       "      <td>...</td>\n",
       "      <td>...</td>\n",
       "      <td>...</td>\n",
       "      <td>...</td>\n",
       "      <td>...</td>\n",
       "      <td>...</td>\n",
       "    </tr>\n",
       "    <tr>\n",
       "      <th>558831</th>\n",
       "      <td>2011</td>\n",
       "      <td>BMW</td>\n",
       "      <td>5 Series</td>\n",
       "      <td>528i</td>\n",
       "      <td>Sedan</td>\n",
       "      <td>automatic</td>\n",
       "      <td>wbafr1c53bc744672</td>\n",
       "      <td>fl</td>\n",
       "      <td>39.0</td>\n",
       "      <td>66403.0</td>\n",
       "      <td>white</td>\n",
       "      <td>brown</td>\n",
       "      <td>lauderdale imports ltd bmw pembrok pines</td>\n",
       "      <td>20300.0</td>\n",
       "      <td>22800.0</td>\n",
       "      <td>Tue Jul 07 2015 06:15:00 GMT-0700 (PDT)</td>\n",
       "    </tr>\n",
       "    <tr>\n",
       "      <th>558833</th>\n",
       "      <td>2012</td>\n",
       "      <td>Ram</td>\n",
       "      <td>2500</td>\n",
       "      <td>Power Wagon</td>\n",
       "      <td>Crew Cab</td>\n",
       "      <td>automatic</td>\n",
       "      <td>3c6td5et6cg112407</td>\n",
       "      <td>wa</td>\n",
       "      <td>5.0</td>\n",
       "      <td>54393.0</td>\n",
       "      <td>white</td>\n",
       "      <td>black</td>\n",
       "      <td>i -5 uhlmann rv</td>\n",
       "      <td>30200.0</td>\n",
       "      <td>30800.0</td>\n",
       "      <td>Wed Jul 08 2015 09:30:00 GMT-0700 (PDT)</td>\n",
       "    </tr>\n",
       "    <tr>\n",
       "      <th>558834</th>\n",
       "      <td>2012</td>\n",
       "      <td>BMW</td>\n",
       "      <td>X5</td>\n",
       "      <td>xDrive35d</td>\n",
       "      <td>SUV</td>\n",
       "      <td>automatic</td>\n",
       "      <td>5uxzw0c58cl668465</td>\n",
       "      <td>ca</td>\n",
       "      <td>48.0</td>\n",
       "      <td>50561.0</td>\n",
       "      <td>black</td>\n",
       "      <td>black</td>\n",
       "      <td>financial services remarketing (lease)</td>\n",
       "      <td>29800.0</td>\n",
       "      <td>34000.0</td>\n",
       "      <td>Wed Jul 08 2015 09:30:00 GMT-0700 (PDT)</td>\n",
       "    </tr>\n",
       "    <tr>\n",
       "      <th>558835</th>\n",
       "      <td>2015</td>\n",
       "      <td>Nissan</td>\n",
       "      <td>Altima</td>\n",
       "      <td>2.5 S</td>\n",
       "      <td>sedan</td>\n",
       "      <td>automatic</td>\n",
       "      <td>1n4al3ap0fc216050</td>\n",
       "      <td>ga</td>\n",
       "      <td>38.0</td>\n",
       "      <td>16658.0</td>\n",
       "      <td>white</td>\n",
       "      <td>black</td>\n",
       "      <td>enterprise vehicle exchange / tra / rental / t...</td>\n",
       "      <td>15100.0</td>\n",
       "      <td>11100.0</td>\n",
       "      <td>Thu Jul 09 2015 06:45:00 GMT-0700 (PDT)</td>\n",
       "    </tr>\n",
       "    <tr>\n",
       "      <th>558836</th>\n",
       "      <td>2014</td>\n",
       "      <td>Ford</td>\n",
       "      <td>F-150</td>\n",
       "      <td>XLT</td>\n",
       "      <td>SuperCrew</td>\n",
       "      <td>automatic</td>\n",
       "      <td>1ftfw1et2eke87277</td>\n",
       "      <td>ca</td>\n",
       "      <td>34.0</td>\n",
       "      <td>15008.0</td>\n",
       "      <td>gray</td>\n",
       "      <td>gray</td>\n",
       "      <td>ford motor credit company llc pd</td>\n",
       "      <td>29600.0</td>\n",
       "      <td>26700.0</td>\n",
       "      <td>Thu May 28 2015 05:30:00 GMT-0700 (PDT)</td>\n",
       "    </tr>\n",
       "  </tbody>\n",
       "</table>\n",
       "<p>472325 rows × 16 columns</p>\n",
       "</div>"
      ],
      "text/plain": [
       "        year    make                model         trim       body  \\\n",
       "0       2015     Kia              Sorento           LX        SUV   \n",
       "1       2015     Kia              Sorento           LX        SUV   \n",
       "2       2014     BMW             3 Series   328i SULEV      Sedan   \n",
       "3       2015   Volvo                  S60           T5      Sedan   \n",
       "4       2014     BMW  6 Series Gran Coupe         650i      Sedan   \n",
       "...      ...     ...                  ...          ...        ...   \n",
       "558831  2011     BMW             5 Series         528i      Sedan   \n",
       "558833  2012     Ram                 2500  Power Wagon   Crew Cab   \n",
       "558834  2012     BMW                   X5    xDrive35d        SUV   \n",
       "558835  2015  Nissan               Altima        2.5 S      sedan   \n",
       "558836  2014    Ford                F-150          XLT  SuperCrew   \n",
       "\n",
       "       transmission                vin state  condition  odometer  color  \\\n",
       "0         automatic  5xyktca69fg566472    ca        5.0   16639.0  white   \n",
       "1         automatic  5xyktca69fg561319    ca        5.0    9393.0  white   \n",
       "2         automatic  wba3c1c51ek116351    ca       45.0    1331.0   gray   \n",
       "3         automatic  yv1612tb4f1310987    ca       41.0   14282.0  white   \n",
       "4         automatic  wba6b2c57ed129731    ca       43.0    2641.0   gray   \n",
       "...             ...                ...   ...        ...       ...    ...   \n",
       "558831    automatic  wbafr1c53bc744672    fl       39.0   66403.0  white   \n",
       "558833    automatic  3c6td5et6cg112407    wa        5.0   54393.0  white   \n",
       "558834    automatic  5uxzw0c58cl668465    ca       48.0   50561.0  black   \n",
       "558835    automatic  1n4al3ap0fc216050    ga       38.0   16658.0  white   \n",
       "558836    automatic  1ftfw1et2eke87277    ca       34.0   15008.0   gray   \n",
       "\n",
       "       interior                                             seller      mmr  \\\n",
       "0         black                            kia motors america  inc  20500.0   \n",
       "1         beige                            kia motors america  inc  20800.0   \n",
       "2         black             financial services remarketing (lease)  31900.0   \n",
       "3         black                            volvo na rep/world omni  27500.0   \n",
       "4         black             financial services remarketing (lease)  66000.0   \n",
       "...         ...                                                ...      ...   \n",
       "558831    brown           lauderdale imports ltd bmw pembrok pines  20300.0   \n",
       "558833    black                                    i -5 uhlmann rv  30200.0   \n",
       "558834    black             financial services remarketing (lease)  29800.0   \n",
       "558835    black  enterprise vehicle exchange / tra / rental / t...  15100.0   \n",
       "558836     gray                   ford motor credit company llc pd  29600.0   \n",
       "\n",
       "        sellingprice                                 saledate  \n",
       "0            21500.0  Tue Dec 16 2014 12:30:00 GMT-0800 (PST)  \n",
       "1            21500.0  Tue Dec 16 2014 12:30:00 GMT-0800 (PST)  \n",
       "2            30000.0  Thu Jan 15 2015 04:30:00 GMT-0800 (PST)  \n",
       "3            27750.0  Thu Jan 29 2015 04:30:00 GMT-0800 (PST)  \n",
       "4            67000.0  Thu Dec 18 2014 12:30:00 GMT-0800 (PST)  \n",
       "...              ...                                      ...  \n",
       "558831       22800.0  Tue Jul 07 2015 06:15:00 GMT-0700 (PDT)  \n",
       "558833       30800.0  Wed Jul 08 2015 09:30:00 GMT-0700 (PDT)  \n",
       "558834       34000.0  Wed Jul 08 2015 09:30:00 GMT-0700 (PDT)  \n",
       "558835       11100.0  Thu Jul 09 2015 06:45:00 GMT-0700 (PDT)  \n",
       "558836       26700.0  Thu May 28 2015 05:30:00 GMT-0700 (PDT)  \n",
       "\n",
       "[472325 rows x 16 columns]"
      ]
     },
     "execution_count": 13,
     "metadata": {},
     "output_type": "execute_result"
    }
   ],
   "source": [
    "car"
   ]
  },
  {
   "cell_type": "code",
   "execution_count": 14,
   "id": "fc47d7c6-19a6-4ac7-9990-325d2954c681",
   "metadata": {},
   "outputs": [
    {
     "data": {
      "text/plain": [
       "472325"
      ]
     },
     "execution_count": 14,
     "metadata": {},
     "output_type": "execute_result"
    }
   ],
   "source": [
    " ##TOTAL NUMBER OF CARS##\n",
    "total_cars=car.shape[0]\n",
    "total_cars"
   ]
  },
  {
   "cell_type": "code",
   "execution_count": 15,
   "id": "305098af-41d5-4274-a5db-0ed0113e74e0",
   "metadata": {},
   "outputs": [
    {
     "data": {
      "text/plain": [
       "np.float64(13690.51)"
      ]
     },
     "execution_count": 15,
     "metadata": {},
     "output_type": "execute_result"
    }
   ],
   "source": [
    "##AVERAGE CAR PRICE\n",
    "avg_price=round(car['sellingprice'].mean(), 2)\n",
    "avg_price"
   ]
  },
  {
   "cell_type": "code",
   "execution_count": 16,
   "id": "fb457eb8-c698-4996-bf64-91e5a9580093",
   "metadata": {},
   "outputs": [],
   "source": [
    "##MOST POPULAR CAR BRAND"
   ]
  },
  {
   "cell_type": "code",
   "execution_count": 17,
   "id": "2f82ce70-9ff8-4779-bea6-4d3b7b5d0a26",
   "metadata": {},
   "outputs": [],
   "source": [
    "top_make=car['make'].value_counts().idxmax()"
   ]
  },
  {
   "cell_type": "code",
   "execution_count": 18,
   "id": "999695c1-f9b3-4d7b-91e1-2cea10501a2e",
   "metadata": {},
   "outputs": [
    {
     "data": {
      "text/plain": [
       "'Ford'"
      ]
     },
     "execution_count": 18,
     "metadata": {},
     "output_type": "execute_result"
    }
   ],
   "source": [
    "top_make"
   ]
  },
  {
   "cell_type": "code",
   "execution_count": 19,
   "id": "41aed472-a7f1-4493-9c26-b6275ce27b66",
   "metadata": {},
   "outputs": [],
   "source": [
    "import seaborn as sns"
   ]
  },
  {
   "cell_type": "code",
   "execution_count": 20,
   "id": "2e97feb2-4655-47c7-8c8b-b61afe3a0996",
   "metadata": {},
   "outputs": [],
   "source": [
    "import matplotlib.pyplot as plt"
   ]
  },
  {
   "cell_type": "code",
   "execution_count": 21,
   "id": "d929a5f0-4e4e-4de5-a035-2235cb3931df",
   "metadata": {},
   "outputs": [],
   "source": [
    "##MOST COMMON(POPULAR) CAR BRANDS"
   ]
  },
  {
   "cell_type": "code",
   "execution_count": 22,
   "id": "08908ab2-78c7-4b03-83b5-4022fa4d49ef",
   "metadata": {},
   "outputs": [],
   "source": [
    "top_makes=car['make'].value_counts().head(10)"
   ]
  },
  {
   "cell_type": "code",
   "execution_count": 23,
   "id": "d3036f7c-840e-4b05-b4a9-e1287644c81a",
   "metadata": {},
   "outputs": [
    {
     "data": {
      "text/plain": [
       "make\n",
       "Ford         81013\n",
       "Chevrolet    54150\n",
       "Nissan       44043\n",
       "Toyota       35313\n",
       "Dodge        27181\n",
       "Honda        24781\n",
       "Hyundai      18659\n",
       "BMW          17509\n",
       "Kia          15828\n",
       "Chrysler     15133\n",
       "Name: count, dtype: int64"
      ]
     },
     "execution_count": 23,
     "metadata": {},
     "output_type": "execute_result"
    }
   ],
   "source": [
    "top_makes"
   ]
  },
  {
   "cell_type": "code",
   "execution_count": 24,
   "id": "469aa33e-4f3e-4b7d-86ca-0f5c828d5c86",
   "metadata": {},
   "outputs": [],
   "source": [
    "import seaborn as sns"
   ]
  },
  {
   "cell_type": "code",
   "execution_count": 25,
   "id": "f83f7ff5-6a79-4ccd-810a-f158039e9349",
   "metadata": {},
   "outputs": [
    {
     "data": {
      "image/png": "[encoded data removed]",
      "text/plain": [
       "<Figure size 640x480 with 1 Axes>"
      ]
     },
     "metadata": {},
     "output_type": "display_data"
    }
   ],
   "source": [
    "sns.barplot(x=top_makes.values, y=top_makes.index)\n",
    "plt.title(\"Top 10 Most Common Car Makes\")\n",
    "plt.xlabel(\"Number of Cars\")\n",
    "plt.ylabel(\"Car Make\")\n",
    "plt.show()"
   ]
  },
  {
   "cell_type": "code",
   "execution_count": 26,
   "id": "632eff7a-01cc-46df-a409-808d47f4f230",
   "metadata": {},
   "outputs": [],
   "source": [
    "import plotly.express as px\n"
   ]
  },
  {
   "cell_type": "code",
   "execution_count": 27,
   "id": "eeff9e20-09ec-4265-9eee-31b6a196eab3",
   "metadata": {},
   "outputs": [],
   "source": [
    "##TOP 10 MOST EXPENSIVE CARS"
   ]
  },
  {
   "cell_type": "code",
   "execution_count": 28,
   "id": "c6be14d8-4dca-4a10-b090-48c1edd8d935",
   "metadata": {},
   "outputs": [],
   "source": [
    "most_expensive=round(car.groupby('make')['sellingprice'].mean().sort_values(ascending=False).head(10), 3)"
   ]
  },
  {
   "cell_type": "code",
   "execution_count": 29,
   "id": "1b1fe6c1-7d08-4170-8e89-748e02444eb2",
   "metadata": {},
   "outputs": [
    {
     "data": {
      "text/plain": [
       "make\n",
       "Rolls-Royce     153456.250\n",
       "Ferrari         128852.941\n",
       "Lamborghini     111500.000\n",
       "Bentley          72713.333\n",
       "Tesla            67054.348\n",
       "Aston Martin     55500.000\n",
       "Fisker           46461.111\n",
       "Maserati         43729.817\n",
       "Lotus            40800.000\n",
       "Porsche          38932.110\n",
       "Name: sellingprice, dtype: float64"
      ]
     },
     "execution_count": 29,
     "metadata": {},
     "output_type": "execute_result"
    }
   ],
   "source": [
    "most_expensive"
   ]
  },
  {
   "cell_type": "code",
   "execution_count": 30,
   "id": "65065ac8-0a79-47ee-9b44-58e15dde50a7",
   "metadata": {},
   "outputs": [
    {
     "data": {
      "image/png": "[encoded data removed]",
      "text/plain": [
       "<Figure size 640x480 with 1 Axes>"
      ]
     },
     "metadata": {},
     "output_type": "display_data"
    }
   ],
   "source": [
    "sns.barplot(x=most_expensive.values, y=most_expensive.index)\n",
    "plt.title('TOP 10 MOST EXPENSIVE CARS')\n",
    "plt.xlabel('Average Selling Price ($)')\n",
    "plt.ylabel('Car Make')\n",
    "plt.show()"
   ]
  },
  {
   "cell_type": "code",
   "execution_count": 31,
   "id": "1f6678c7-c038-4d03-9d0d-a8677004426b",
   "metadata": {},
   "outputs": [],
   "source": [
    "##TRANSMISSION COUNT"
   ]
  },
  {
   "cell_type": "code",
   "execution_count": 32,
   "id": "79d78f51-151a-4442-aac7-6643a04073d3",
   "metadata": {},
   "outputs": [],
   "source": [
    "transmission_count=car['transmission'].value_counts()"
   ]
  },
  {
   "cell_type": "code",
   "execution_count": 33,
   "id": "58a5516d-8615-44bb-8bd4-1a5068d964d0",
   "metadata": {},
   "outputs": [
    {
     "data": {
      "text/plain": [
       "transmission\n",
       "automatic    455963\n",
       "manual        16362\n",
       "Name: count, dtype: int64"
      ]
     },
     "execution_count": 33,
     "metadata": {},
     "output_type": "execute_result"
    }
   ],
   "source": [
    "transmission_count"
   ]
  },
  {
   "cell_type": "code",
   "execution_count": 34,
   "id": "a98079a5-e7a4-4d51-8ebc-54875f0d0899",
   "metadata": {},
   "outputs": [],
   "source": [
    "labels=transmission_count.index\n",
    "sizes=transmission_count.values"
   ]
  },
  {
   "cell_type": "code",
   "execution_count": 35,
   "id": "eade2485-7c3a-48c4-a602-1a51a8bf73f8",
   "metadata": {},
   "outputs": [
    {
     "data": {
      "image/png": "[encoded data removed]",
      "text/plain": [
       "<Figure size 640x480 with 1 Axes>"
      ]
     },
     "metadata": {},
     "output_type": "display_data"
    }
   ],
   "source": [
    "plt.pie(sizes, labels=labels, autopct='%.0f%%', startangle=90)\n",
    "plt.title('TRANSMISSION TYPE DISTRIBUTION')\n",
    "plt.axis('equal')\n",
    "plt.show()"
   ]
  },
  {
   "cell_type": "code",
   "execution_count": 36,
   "id": "bb6bb3ff-8eac-46b0-9ada-8215da77a062",
   "metadata": {},
   "outputs": [],
   "source": [
    "##TOP 10 LEAST EXPENSIVE CARS"
   ]
  },
  {
   "cell_type": "code",
   "execution_count": 37,
   "id": "bed616bb-105d-4447-9965-00090e82c51f",
   "metadata": {},
   "outputs": [],
   "source": [
    "least_expensive=round(car.groupby('make')['sellingprice'].mean().sort_values(ascending=False).tail(10), 3)"
   ]
  },
  {
   "cell_type": "code",
   "execution_count": 38,
   "id": "fd3fb22a-0ca4-4093-9976-9b2e6f715453",
   "metadata": {},
   "outputs": [
    {
     "data": {
      "text/plain": [
       "make\n",
       "smart         6301.603\n",
       "Suzuki        4009.770\n",
       "Mercury       3996.945\n",
       "Pontiac       3814.865\n",
       "Saab          3616.346\n",
       "Saturn        3436.381\n",
       "Isuzu         1774.162\n",
       "Oldsmobile     953.774\n",
       "Geo            576.562\n",
       "Daewoo         450.000\n",
       "Name: sellingprice, dtype: float64"
      ]
     },
     "execution_count": 38,
     "metadata": {},
     "output_type": "execute_result"
    }
   ],
   "source": [
    "least_expensive"
   ]
  },
  {
   "cell_type": "code",
   "execution_count": 74,
   "id": "726dabad-4ef5-46c1-87a5-563bca5b49c0",
   "metadata": {},
   "outputs": [
    {
     "name": "stderr",
     "output_type": "stream",
     "text": [
      "C:\\Users\\HP SPECTRE\\AppData\\Local\\Temp\\ipykernel_25648\\1960343658.py:1: FutureWarning: \n",
      "\n",
      "Passing `palette` without assigning `hue` is deprecated and will be removed in v0.14.0. Assign the `y` variable to `hue` and set `legend=False` for the same effect.\n",
      "\n",
      "  sns.barplot(x=least_expensive.values, y=least_expensive.index, palette='coolwarm')\n"
     ]
    },
    {
     "data": {
      "image/png": "[encoded data removed]",
      "text/plain": [
       "<Figure size 640x480 with 1 Axes>"
      ]
     },
     "metadata": {},
     "output_type": "display_data"
    }
   ],
   "source": [
    "sns.barplot(x=least_expensive.values, y=least_expensive.index, palette='coolwarm')\n",
    "plt.title('TOP 10 LEAST EXPENSIVE CARS')\n",
    "plt.xlabel('Average Selling Price ($)')\n",
    "plt.ylabel('Car Make')\n",
    "plt.show()"
   ]
  },
  {
   "cell_type": "code",
   "execution_count": 40,
   "id": "96288dd4-317a-4504-878d-af2d5362ffde",
   "metadata": {},
   "outputs": [],
   "source": [
    "##TOP 10 HIGHEST AVERAGE MILEAGE CARS(average distance driven)(most used)"
   ]
  },
  {
   "cell_type": "code",
   "execution_count": 87,
   "id": "b45d68ca-8274-499b-9f9a-b9fd37e5c2ea",
   "metadata": {},
   "outputs": [],
   "source": [
    "high_avg_mileage=round(car.groupby('make')['odometer'].mean().sort_values(ascending=False).head(5), 3)"
   ]
  },
  {
   "cell_type": "code",
   "execution_count": 88,
   "id": "0f2c5819-f855-4c46-9821-4bf546d3bab5",
   "metadata": {},
   "outputs": [
    {
     "data": {
      "text/plain": [
       "make\n",
       "Geo           176193.125\n",
       "Oldsmobile    140583.575\n",
       "Isuzu         138911.453\n",
       "Saturn        116997.357\n",
       "Pontiac       116536.031\n",
       "Name: odometer, dtype: float64"
      ]
     },
     "execution_count": 88,
     "metadata": {},
     "output_type": "execute_result"
    }
   ],
   "source": [
    "high_avg_mileage"
   ]
  },
  {
   "cell_type": "code",
   "execution_count": 89,
   "id": "dc235a50-4401-4cca-91be-f1c85b50ce92",
   "metadata": {},
   "outputs": [
    {
     "data": {
      "image/png": "[encoded data removed]",
      "text/plain": [
       "<Figure size 640x480 with 1 Axes>"
      ]
     },
     "metadata": {},
     "output_type": "display_data"
    }
   ],
   "source": [
    "sns.barplot(x=high_avg_mileage.index, y=high_avg_mileage.values)\n",
    "plt.title('Highest Odometer reading by Make')\n",
    "plt.xlabel('Make')\n",
    "plt.ylabel('Odometer reading')\n",
    "plt.show()"
   ]
  },
  {
   "cell_type": "code",
   "execution_count": 43,
   "id": "62b33064-2751-44e1-981b-89c6dd177f71",
   "metadata": {},
   "outputs": [
    {
     "data": {
      "text/html": [
       "<div>\n",
       "<style scoped>\n",
       "    .dataframe tbody tr th:only-of-type {\n",
       "        vertical-align: middle;\n",
       "    }\n",
       "\n",
       "    .dataframe tbody tr th {\n",
       "        vertical-align: top;\n",
       "    }\n",
       "\n",
       "    .dataframe thead th {\n",
       "        text-align: right;\n",
       "    }\n",
       "</style>\n",
       "<table border=\"1\" class=\"dataframe\">\n",
       "  <thead>\n",
       "    <tr style=\"text-align: right;\">\n",
       "      <th></th>\n",
       "      <th>year</th>\n",
       "      <th>make</th>\n",
       "      <th>model</th>\n",
       "      <th>trim</th>\n",
       "      <th>body</th>\n",
       "      <th>transmission</th>\n",
       "      <th>vin</th>\n",
       "      <th>state</th>\n",
       "      <th>condition</th>\n",
       "      <th>odometer</th>\n",
       "      <th>color</th>\n",
       "      <th>interior</th>\n",
       "      <th>seller</th>\n",
       "      <th>mmr</th>\n",
       "      <th>sellingprice</th>\n",
       "      <th>saledate</th>\n",
       "    </tr>\n",
       "  </thead>\n",
       "  <tbody>\n",
       "    <tr>\n",
       "      <th>0</th>\n",
       "      <td>2015</td>\n",
       "      <td>Kia</td>\n",
       "      <td>Sorento</td>\n",
       "      <td>LX</td>\n",
       "      <td>SUV</td>\n",
       "      <td>automatic</td>\n",
       "      <td>5xyktca69fg566472</td>\n",
       "      <td>ca</td>\n",
       "      <td>5.0</td>\n",
       "      <td>16639.0</td>\n",
       "      <td>white</td>\n",
       "      <td>black</td>\n",
       "      <td>kia motors america  inc</td>\n",
       "      <td>20500.0</td>\n",
       "      <td>21500.0</td>\n",
       "      <td>Tue Dec 16 2014 12:30:00 GMT-0800 (PST)</td>\n",
       "    </tr>\n",
       "    <tr>\n",
       "      <th>1</th>\n",
       "      <td>2015</td>\n",
       "      <td>Kia</td>\n",
       "      <td>Sorento</td>\n",
       "      <td>LX</td>\n",
       "      <td>SUV</td>\n",
       "      <td>automatic</td>\n",
       "      <td>5xyktca69fg561319</td>\n",
       "      <td>ca</td>\n",
       "      <td>5.0</td>\n",
       "      <td>9393.0</td>\n",
       "      <td>white</td>\n",
       "      <td>beige</td>\n",
       "      <td>kia motors america  inc</td>\n",
       "      <td>20800.0</td>\n",
       "      <td>21500.0</td>\n",
       "      <td>Tue Dec 16 2014 12:30:00 GMT-0800 (PST)</td>\n",
       "    </tr>\n",
       "    <tr>\n",
       "      <th>2</th>\n",
       "      <td>2014</td>\n",
       "      <td>BMW</td>\n",
       "      <td>3 Series</td>\n",
       "      <td>328i SULEV</td>\n",
       "      <td>Sedan</td>\n",
       "      <td>automatic</td>\n",
       "      <td>wba3c1c51ek116351</td>\n",
       "      <td>ca</td>\n",
       "      <td>45.0</td>\n",
       "      <td>1331.0</td>\n",
       "      <td>gray</td>\n",
       "      <td>black</td>\n",
       "      <td>financial services remarketing (lease)</td>\n",
       "      <td>31900.0</td>\n",
       "      <td>30000.0</td>\n",
       "      <td>Thu Jan 15 2015 04:30:00 GMT-0800 (PST)</td>\n",
       "    </tr>\n",
       "    <tr>\n",
       "      <th>3</th>\n",
       "      <td>2015</td>\n",
       "      <td>Volvo</td>\n",
       "      <td>S60</td>\n",
       "      <td>T5</td>\n",
       "      <td>Sedan</td>\n",
       "      <td>automatic</td>\n",
       "      <td>yv1612tb4f1310987</td>\n",
       "      <td>ca</td>\n",
       "      <td>41.0</td>\n",
       "      <td>14282.0</td>\n",
       "      <td>white</td>\n",
       "      <td>black</td>\n",
       "      <td>volvo na rep/world omni</td>\n",
       "      <td>27500.0</td>\n",
       "      <td>27750.0</td>\n",
       "      <td>Thu Jan 29 2015 04:30:00 GMT-0800 (PST)</td>\n",
       "    </tr>\n",
       "    <tr>\n",
       "      <th>4</th>\n",
       "      <td>2014</td>\n",
       "      <td>BMW</td>\n",
       "      <td>6 Series Gran Coupe</td>\n",
       "      <td>650i</td>\n",
       "      <td>Sedan</td>\n",
       "      <td>automatic</td>\n",
       "      <td>wba6b2c57ed129731</td>\n",
       "      <td>ca</td>\n",
       "      <td>43.0</td>\n",
       "      <td>2641.0</td>\n",
       "      <td>gray</td>\n",
       "      <td>black</td>\n",
       "      <td>financial services remarketing (lease)</td>\n",
       "      <td>66000.0</td>\n",
       "      <td>67000.0</td>\n",
       "      <td>Thu Dec 18 2014 12:30:00 GMT-0800 (PST)</td>\n",
       "    </tr>\n",
       "    <tr>\n",
       "      <th>...</th>\n",
       "      <td>...</td>\n",
       "      <td>...</td>\n",
       "      <td>...</td>\n",
       "      <td>...</td>\n",
       "      <td>...</td>\n",
       "      <td>...</td>\n",
       "      <td>...</td>\n",
       "      <td>...</td>\n",
       "      <td>...</td>\n",
       "      <td>...</td>\n",
       "      <td>...</td>\n",
       "      <td>...</td>\n",
       "      <td>...</td>\n",
       "      <td>...</td>\n",
       "      <td>...</td>\n",
       "      <td>...</td>\n",
       "    </tr>\n",
       "    <tr>\n",
       "      <th>558831</th>\n",
       "      <td>2011</td>\n",
       "      <td>BMW</td>\n",
       "      <td>5 Series</td>\n",
       "      <td>528i</td>\n",
       "      <td>Sedan</td>\n",
       "      <td>automatic</td>\n",
       "      <td>wbafr1c53bc744672</td>\n",
       "      <td>fl</td>\n",
       "      <td>39.0</td>\n",
       "      <td>66403.0</td>\n",
       "      <td>white</td>\n",
       "      <td>brown</td>\n",
       "      <td>lauderdale imports ltd bmw pembrok pines</td>\n",
       "      <td>20300.0</td>\n",
       "      <td>22800.0</td>\n",
       "      <td>Tue Jul 07 2015 06:15:00 GMT-0700 (PDT)</td>\n",
       "    </tr>\n",
       "    <tr>\n",
       "      <th>558833</th>\n",
       "      <td>2012</td>\n",
       "      <td>Ram</td>\n",
       "      <td>2500</td>\n",
       "      <td>Power Wagon</td>\n",
       "      <td>Crew Cab</td>\n",
       "      <td>automatic</td>\n",
       "      <td>3c6td5et6cg112407</td>\n",
       "      <td>wa</td>\n",
       "      <td>5.0</td>\n",
       "      <td>54393.0</td>\n",
       "      <td>white</td>\n",
       "      <td>black</td>\n",
       "      <td>i -5 uhlmann rv</td>\n",
       "      <td>30200.0</td>\n",
       "      <td>30800.0</td>\n",
       "      <td>Wed Jul 08 2015 09:30:00 GMT-0700 (PDT)</td>\n",
       "    </tr>\n",
       "    <tr>\n",
       "      <th>558834</th>\n",
       "      <td>2012</td>\n",
       "      <td>BMW</td>\n",
       "      <td>X5</td>\n",
       "      <td>xDrive35d</td>\n",
       "      <td>SUV</td>\n",
       "      <td>automatic</td>\n",
       "      <td>5uxzw0c58cl668465</td>\n",
       "      <td>ca</td>\n",
       "      <td>48.0</td>\n",
       "      <td>50561.0</td>\n",
       "      <td>black</td>\n",
       "      <td>black</td>\n",
       "      <td>financial services remarketing (lease)</td>\n",
       "      <td>29800.0</td>\n",
       "      <td>34000.0</td>\n",
       "      <td>Wed Jul 08 2015 09:30:00 GMT-0700 (PDT)</td>\n",
       "    </tr>\n",
       "    <tr>\n",
       "      <th>558835</th>\n",
       "      <td>2015</td>\n",
       "      <td>Nissan</td>\n",
       "      <td>Altima</td>\n",
       "      <td>2.5 S</td>\n",
       "      <td>sedan</td>\n",
       "      <td>automatic</td>\n",
       "      <td>1n4al3ap0fc216050</td>\n",
       "      <td>ga</td>\n",
       "      <td>38.0</td>\n",
       "      <td>16658.0</td>\n",
       "      <td>white</td>\n",
       "      <td>black</td>\n",
       "      <td>enterprise vehicle exchange / tra / rental / t...</td>\n",
       "      <td>15100.0</td>\n",
       "      <td>11100.0</td>\n",
       "      <td>Thu Jul 09 2015 06:45:00 GMT-0700 (PDT)</td>\n",
       "    </tr>\n",
       "    <tr>\n",
       "      <th>558836</th>\n",
       "      <td>2014</td>\n",
       "      <td>Ford</td>\n",
       "      <td>F-150</td>\n",
       "      <td>XLT</td>\n",
       "      <td>SuperCrew</td>\n",
       "      <td>automatic</td>\n",
       "      <td>1ftfw1et2eke87277</td>\n",
       "      <td>ca</td>\n",
       "      <td>34.0</td>\n",
       "      <td>15008.0</td>\n",
       "      <td>gray</td>\n",
       "      <td>gray</td>\n",
       "      <td>ford motor credit company llc pd</td>\n",
       "      <td>29600.0</td>\n",
       "      <td>26700.0</td>\n",
       "      <td>Thu May 28 2015 05:30:00 GMT-0700 (PDT)</td>\n",
       "    </tr>\n",
       "  </tbody>\n",
       "</table>\n",
       "<p>472325 rows × 16 columns</p>\n",
       "</div>"
      ],
      "text/plain": [
       "        year    make                model         trim       body  \\\n",
       "0       2015     Kia              Sorento           LX        SUV   \n",
       "1       2015     Kia              Sorento           LX        SUV   \n",
       "2       2014     BMW             3 Series   328i SULEV      Sedan   \n",
       "3       2015   Volvo                  S60           T5      Sedan   \n",
       "4       2014     BMW  6 Series Gran Coupe         650i      Sedan   \n",
       "...      ...     ...                  ...          ...        ...   \n",
       "558831  2011     BMW             5 Series         528i      Sedan   \n",
       "558833  2012     Ram                 2500  Power Wagon   Crew Cab   \n",
       "558834  2012     BMW                   X5    xDrive35d        SUV   \n",
       "558835  2015  Nissan               Altima        2.5 S      sedan   \n",
       "558836  2014    Ford                F-150          XLT  SuperCrew   \n",
       "\n",
       "       transmission                vin state  condition  odometer  color  \\\n",
       "0         automatic  5xyktca69fg566472    ca        5.0   16639.0  white   \n",
       "1         automatic  5xyktca69fg561319    ca        5.0    9393.0  white   \n",
       "2         automatic  wba3c1c51ek116351    ca       45.0    1331.0   gray   \n",
       "3         automatic  yv1612tb4f1310987    ca       41.0   14282.0  white   \n",
       "4         automatic  wba6b2c57ed129731    ca       43.0    2641.0   gray   \n",
       "...             ...                ...   ...        ...       ...    ...   \n",
       "558831    automatic  wbafr1c53bc744672    fl       39.0   66403.0  white   \n",
       "558833    automatic  3c6td5et6cg112407    wa        5.0   54393.0  white   \n",
       "558834    automatic  5uxzw0c58cl668465    ca       48.0   50561.0  black   \n",
       "558835    automatic  1n4al3ap0fc216050    ga       38.0   16658.0  white   \n",
       "558836    automatic  1ftfw1et2eke87277    ca       34.0   15008.0   gray   \n",
       "\n",
       "       interior                                             seller      mmr  \\\n",
       "0         black                            kia motors america  inc  20500.0   \n",
       "1         beige                            kia motors america  inc  20800.0   \n",
       "2         black             financial services remarketing (lease)  31900.0   \n",
       "3         black                            volvo na rep/world omni  27500.0   \n",
       "4         black             financial services remarketing (lease)  66000.0   \n",
       "...         ...                                                ...      ...   \n",
       "558831    brown           lauderdale imports ltd bmw pembrok pines  20300.0   \n",
       "558833    black                                    i -5 uhlmann rv  30200.0   \n",
       "558834    black             financial services remarketing (lease)  29800.0   \n",
       "558835    black  enterprise vehicle exchange / tra / rental / t...  15100.0   \n",
       "558836     gray                   ford motor credit company llc pd  29600.0   \n",
       "\n",
       "        sellingprice                                 saledate  \n",
       "0            21500.0  Tue Dec 16 2014 12:30:00 GMT-0800 (PST)  \n",
       "1            21500.0  Tue Dec 16 2014 12:30:00 GMT-0800 (PST)  \n",
       "2            30000.0  Thu Jan 15 2015 04:30:00 GMT-0800 (PST)  \n",
       "3            27750.0  Thu Jan 29 2015 04:30:00 GMT-0800 (PST)  \n",
       "4            67000.0  Thu Dec 18 2014 12:30:00 GMT-0800 (PST)  \n",
       "...              ...                                      ...  \n",
       "558831       22800.0  Tue Jul 07 2015 06:15:00 GMT-0700 (PDT)  \n",
       "558833       30800.0  Wed Jul 08 2015 09:30:00 GMT-0700 (PDT)  \n",
       "558834       34000.0  Wed Jul 08 2015 09:30:00 GMT-0700 (PDT)  \n",
       "558835       11100.0  Thu Jul 09 2015 06:45:00 GMT-0700 (PDT)  \n",
       "558836       26700.0  Thu May 28 2015 05:30:00 GMT-0700 (PDT)  \n",
       "\n",
       "[472325 rows x 16 columns]"
      ]
     },
     "execution_count": 43,
     "metadata": {},
     "output_type": "execute_result"
    }
   ],
   "source": [
    "car"
   ]
  },
  {
   "cell_type": "code",
   "execution_count": 44,
   "id": "62ec314b-3ec1-4f8c-b554-b8881fbbcd07",
   "metadata": {},
   "outputs": [],
   "source": [
    "##AVERAGE SELLING PRICE BY VEHICLE CONDITION"
   ]
  },
  {
   "cell_type": "code",
   "execution_count": 48,
   "id": "05222902-4798-4a12-b71e-a2a88f1ed60a",
   "metadata": {},
   "outputs": [],
   "source": [
    "avg_price_condition=round(car.groupby('condition')['sellingprice'].mean().sort_values(ascending=False).head(10), 2)"
   ]
  },
  {
   "cell_type": "code",
   "execution_count": 49,
   "id": "2beea944-932f-4b0a-b35a-43198063999d",
   "metadata": {},
   "outputs": [
    {
     "data": {
      "text/plain": [
       "condition\n",
       "5.0     24582.62\n",
       "49.0    22686.27\n",
       "48.0    21377.92\n",
       "47.0    20881.72\n",
       "46.0    20366.42\n",
       "45.0    19892.98\n",
       "44.0    19118.50\n",
       "43.0    18408.09\n",
       "42.0    17791.51\n",
       "4.0     17621.00\n",
       "Name: sellingprice, dtype: float64"
      ]
     },
     "execution_count": 49,
     "metadata": {},
     "output_type": "execute_result"
    }
   ],
   "source": [
    "avg_price_condition"
   ]
  },
  {
   "cell_type": "code",
   "execution_count": 64,
   "id": "b68c41f3-a196-4944-af7e-548c6d1d0a61",
   "metadata": {},
   "outputs": [
    {
     "data": {
      "image/png": "[encoded data removed]",
      "text/plain": [
       "<Figure size 640x480 with 1 Axes>"
      ]
     },
     "metadata": {},
     "output_type": "display_data"
    }
   ],
   "source": [
    "sns.barplot(x=avg_price_condition.index, y=avg_price_condition.values)\n",
    "plt.title('Average Selling Price by Vehicle Condition')\n",
    "plt.xlabel('Condition Score')\n",
    "plt.ylabel('Average Selling Price ($)')\n",
    "plt.show()"
   ]
  },
  {
   "cell_type": "code",
   "execution_count": 65,
   "id": "2a2fafbf-32e1-4415-93ce-34df6de66fbe",
   "metadata": {},
   "outputs": [],
   "source": [
    "##AVERAGE SELLING PRICE BY BODY TYPE"
   ]
  },
  {
   "cell_type": "code",
   "execution_count": 60,
   "id": "8b71eb20-eb73-4a03-8bfb-502298bbb5f1",
   "metadata": {},
   "outputs": [],
   "source": [
    "avg_price_body =round(car.groupby('body')['sellingprice'].mean().sort_values(ascending=False).head(10),0)\n"
   ]
  },
  {
   "cell_type": "code",
   "execution_count": 61,
   "id": "7db2e9ee-b6e9-48bb-9334-cdcd6c8dad0e",
   "metadata": {},
   "outputs": [
    {
     "data": {
      "text/plain": [
       "body\n",
       "granturismo convertible    77000.0\n",
       "GranTurismo Convertible    74000.0\n",
       "CTS-V Wagon                50500.0\n",
       "cts-v coupe                39592.0\n",
       "CTS-V Coupe                37619.0\n",
       "Q60 Convertible            36738.0\n",
       "q60 convertible            35725.0\n",
       "q60 coupe                  31112.0\n",
       "Mega Cab                   31016.0\n",
       "Q60 Coupe                  29480.0\n",
       "Name: sellingprice, dtype: float64"
      ]
     },
     "execution_count": 61,
     "metadata": {},
     "output_type": "execute_result"
    }
   ],
   "source": [
    "avg_price_body"
   ]
  },
  {
   "cell_type": "code",
   "execution_count": 70,
   "id": "ae68197f-0c69-416f-ac17-6105aa55f680",
   "metadata": {},
   "outputs": [
    {
     "data": {
      "image/png": "[encoded data removed]",
      "text/plain": [
       "<Figure size 640x480 with 1 Axes>"
      ]
     },
     "metadata": {},
     "output_type": "display_data"
    }
   ],
   "source": [
    "sns.barplot(x=avg_price_body.values, y=avg_price_body.index)\n",
    "plt.xlabel('Average Selling Price ($)')\n",
    "plt.ylabel('Body Type')\n",
    "plt.title('Average Selling Price by Body Type')\n",
    "plt.show()"
   ]
  },
  {
   "cell_type": "code",
   "execution_count": 71,
   "id": "c185c2f6-55a7-4b89-b320-65cd08563a24",
   "metadata": {},
   "outputs": [],
   "source": [
    "##AVERAGE SELLING PRICE BY STATE"
   ]
  },
  {
   "cell_type": "code",
   "execution_count": 72,
   "id": "2fc957a2-8118-438d-b0f3-5708a375e063",
   "metadata": {},
   "outputs": [],
   "source": [
    "avg_price_state =round(car.groupby('state')['sellingprice'].mean().sort_values(ascending=False).head(10),0)"
   ]
  },
  {
   "cell_type": "code",
   "execution_count": 73,
   "id": "d1c69ccd-90da-49b3-92bb-13968f95f95d",
   "metadata": {},
   "outputs": [
    {
     "data": {
      "text/plain": [
       "state\n",
       "tn    17285.0\n",
       "co    15745.0\n",
       "nv    15576.0\n",
       "il    15404.0\n",
       "mi    15182.0\n",
       "ca    14895.0\n",
       "mo    14695.0\n",
       "oh    14459.0\n",
       "fl    14331.0\n",
       "wa    14328.0\n",
       "Name: sellingprice, dtype: float64"
      ]
     },
     "execution_count": 73,
     "metadata": {},
     "output_type": "execute_result"
    }
   ],
   "source": [
    "avg_price_state"
   ]
  },
  {
   "cell_type": "code",
   "execution_count": 81,
   "id": "71ed2d3c-7f3d-47e8-a306-88457101e9ef",
   "metadata": {},
   "outputs": [
    {
     "data": {
      "image/png": "[encoded data removed]",
      "text/plain": [
       "<Figure size 640x480 with 1 Axes>"
      ]
     },
     "metadata": {},
     "output_type": "display_data"
    }
   ],
   "source": [
    "sns.barplot(x=avg_price_state.values, y=avg_price_state.index)\n",
    "plt.xlabel('Average Selling Price ($)')\n",
    "plt.ylabel('State')\n",
    "plt.title('Top States by Average Selling Price ')\n",
    "plt.show()"
   ]
  },
  {
   "cell_type": "code",
   "execution_count": 76,
   "id": "bb3ed578-3c7a-4b39-a9d0-1439330cb266",
   "metadata": {},
   "outputs": [],
   "source": [
    "##AVERAGE SELLING PRICE BY COLOR"
   ]
  },
  {
   "cell_type": "code",
   "execution_count": 77,
   "id": "46339cd7-519a-4d11-a205-856a2b3936d7",
   "metadata": {},
   "outputs": [],
   "source": [
    "avg_price_color =round(car.groupby('color')['sellingprice'].mean().sort_values(ascending=False).head(10),0)"
   ]
  },
  {
   "cell_type": "code",
   "execution_count": 78,
   "id": "0b40cc63-421e-41de-9e70-cb7ee07a1f53",
   "metadata": {},
   "outputs": [
    {
     "data": {
      "text/plain": [
       "color\n",
       "—            17824.0\n",
       "charcoal     16256.0\n",
       "brown        15532.0\n",
       "black        15474.0\n",
       "off-white    15375.0\n",
       "white        14864.0\n",
       "gray         13956.0\n",
       "orange       13102.0\n",
       "red          12898.0\n",
       "yellow       12782.0\n",
       "Name: sellingprice, dtype: float64"
      ]
     },
     "execution_count": 78,
     "metadata": {},
     "output_type": "execute_result"
    }
   ],
   "source": [
    "avg_price_color"
   ]
  },
  {
   "cell_type": "code",
   "execution_count": 80,
   "id": "7f6cbaf9-f83c-4d59-a5c5-33e2f3b7d76d",
   "metadata": {},
   "outputs": [
    {
     "data": {
      "image/png": "[encoded data removed]",
      "text/plain": [
       "<Figure size 640x480 with 1 Axes>"
      ]
     },
     "metadata": {},
     "output_type": "display_data"
    }
   ],
   "source": [
    "sns.barplot(x=avg_price_color.values, y=avg_price_color.index)\n",
    "plt.xlabel('Average Selling Price ($)')\n",
    "plt.ylabel('color')\n",
    "plt.title('Average Selling Price by Color')\n",
    "plt.show()"
   ]
  },
  {
   "cell_type": "code",
   "execution_count": null,
   "id": "5623b696-23b2-4a66-a871-a868434f0cb0",
   "metadata": {},
   "outputs": [],
   "source": []
  }
 ],
 "metadata": {
  "kernelspec": {
   "display_name": "Python 3 (ipykernel)",
   "language": "python",
   "name": "python3"
  },
  "language_info": {
   "codemirror_mode": {
    "name": "ipython",
    "version": 3
   },
   "file_extension": ".py",
   "mimetype": "text/x-python",
   "name": "python",
   "nbconvert_exporter": "python",
   "pygments_lexer": "ipython3",
   "version": "3.13.5"
  }
 },
 "nbformat": 4,
 "nbformat_minor": 5
}
